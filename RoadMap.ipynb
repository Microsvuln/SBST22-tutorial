{
 "cells": [
  {
   "cell_type": "markdown",
   "id": "6cad2883",
   "metadata": {},
   "source": [
    "# The Roadmap"
   ]
  },
  {
   "cell_type": "markdown",
   "id": "b777ecc0",
   "metadata": {},
   "source": [
    "Please see the [README](https://github.com/vrthra/SBST22-tutorial/blob/main/README.md) for the basic prerequisites."
   ]
  },
  {
   "cell_type": "markdown",
   "id": "02916cd8",
   "metadata": {},
   "source": [
    "## Generating Samples"
   ]
  },
  {
   "cell_type": "markdown",
   "id": "7569e593",
   "metadata": {},
   "source": [
    "0. The notebook [x1_0_GeneratingSamples](http://localhost:8888/notebooks/x1_0_GeneratingSamples.ipynb) describes to generate inputs using GA when the syntax specification is not available. Here, we assume that the parser can signal an error as soon as an incorrect byte or character is read from the input string.\n",
    "1. What if the parser is does not conform to the above specification? In the notebook [x1_1_TrackAccess](http://localhost:8888/notebooks/x1_1_TrackAccess.ipynb) we show how to use a proxy string wrapper for the input string to identify the maximal parse of the input. Using this, we also describe a second generator that can generate more complex and diverse inputs."
   ]
  },
  {
   "cell_type": "markdown",
   "id": "cd339ba1",
   "metadata": {},
   "source": [
    "## Mining Grammar"
   ]
  },
  {
   "cell_type": "markdown",
   "id": "037fcf93",
   "metadata": {},
   "source": [
    "The notebook [x2_0_MiningGrammar](http://localhost:8888/notebooks/x2_0_MiningGrammar.ipynb) describes how to use the sample inputs for mining the syntax specification (context-free grammar) of a given parser."
   ]
  },
  {
   "cell_type": "markdown",
   "id": "20894d0d",
   "metadata": {},
   "source": [
    "## Abstracting Inputs"
   ]
  },
  {
   "cell_type": "markdown",
   "id": "9ec87849",
   "metadata": {},
   "source": [
    "\n",
    "The notebook [x3_0_AbstractingInputs](http://localhost:8888/notebooks/x3_0_AbstractingInputs.ipynb) Given a specification, how to abstract any input that causes a bug resulting in a bug specification."
   ]
  },
  {
   "cell_type": "markdown",
   "id": "5bde54ae",
   "metadata": {},
   "source": [
    "## Input Algebras"
   ]
  },
  {
   "cell_type": "markdown",
   "id": "34fe978b",
   "metadata": {},
   "source": [
    "The notebook x4_0_InputAlgebras](http://localhost:8888/notebooks/x4_0_InputAlgebras.ipynb) shows how to combine the specifications of such bugs using and, or and negate for complex bug specifications. For example, one can specify that each input produced by a fuzzer should contain input patterns that induce bugs A, B, and either C or D but should not contain bug E."
   ]
  }
 ],
 "metadata": {
  "kernelspec": {
   "display_name": "Python 3 (ipykernel)",
   "language": "python",
   "name": "python3"
  },
  "language_info": {
   "codemirror_mode": {
    "name": "ipython",
    "version": 3
   },
   "file_extension": ".py",
   "mimetype": "text/x-python",
   "name": "python",
   "nbconvert_exporter": "python",
   "pygments_lexer": "ipython3",
   "version": "3.10.0"
  },
  "toc": {
   "base_numbering": 1,
   "nav_menu": {},
   "number_sections": true,
   "sideBar": true,
   "skip_h1_title": false,
   "title_cell": "Table of Contents",
   "title_sidebar": "Contents",
   "toc_cell": false,
   "toc_position": {},
   "toc_section_display": true,
   "toc_window_display": true
  }
 },
 "nbformat": 4,
 "nbformat_minor": 5
}
