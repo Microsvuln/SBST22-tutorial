{
 "cells": [
  {
   "cell_type": "markdown",
   "id": "75324a72",
   "metadata": {},
   "source": [
    "# The Roadmap"
   ]
  },
  {
   "cell_type": "markdown",
   "id": "8a5bbad2",
   "metadata": {},
   "source": [
    "Please see the [README](https://github.com/vrthra/SBST22-tutorial/blob/main/README.md) for the basic prerequisites."
   ]
  },
  {
   "cell_type": "markdown",
   "id": "957b1913",
   "metadata": {},
   "source": [
    "## Generating Samples"
   ]
  },
  {
   "cell_type": "markdown",
   "id": "fd1a81b7",
   "metadata": {},
   "source": [
    "The notebook [x1_0_GeneratingSamples](http://localhost:8888/notebooks/x1_0_GeneratingSamples.ipynb) describes to generate inputs using GA when the syntax specification is not available."
   ]
  },
  {
   "cell_type": "markdown",
   "id": "68f4fe64",
   "metadata": {},
   "source": [
    "## Mining Grammar"
   ]
  },
  {
   "cell_type": "markdown",
   "id": "9fe8db4d",
   "metadata": {},
   "source": [
    "The notebook [x2_0_MiningGrammar](http://localhost:8888/notebooks/x2_0_MiningGrammar.ipynb)Describes how to use the sample inputs for mining the syntax specification (context-free grammar) of a given parser."
   ]
  },
  {
   "cell_type": "markdown",
   "id": "5df1e234",
   "metadata": {},
   "source": [
    "## Abstracting Inputs"
   ]
  },
  {
   "cell_type": "markdown",
   "id": "d90840cb",
   "metadata": {},
   "source": [
    "\n",
    "The notebook [x3_0_AbstractingInputs](http://localhost:8888/notebooks/x3_0_AbstractingInputs.ipynb) Given a specification, how to abstract any input that causes a bug resulting in a bug specification."
   ]
  },
  {
   "cell_type": "markdown",
   "id": "36ae25f3",
   "metadata": {},
   "source": [
    "## Input Algebras"
   ]
  },
  {
   "cell_type": "markdown",
   "id": "476991ad",
   "metadata": {},
   "source": [
    "The notebook x4_0_InputAlgebras](http://localhost:8888/notebooks/x4_0_InputAlgebras.ipynb) shows how to combine the specifications of such bugs using and, or and negate for complex bug specifications. For example, one can specify that each input produced by a fuzzer should contain input patterns that induce bugs A, B, and either C or D but should not contain bug E."
   ]
  }
 ],
 "metadata": {
  "kernelspec": {
   "display_name": "Python 3 (ipykernel)",
   "language": "python",
   "name": "python3"
  },
  "language_info": {
   "codemirror_mode": {
    "name": "ipython",
    "version": 3
   },
   "file_extension": ".py",
   "mimetype": "text/x-python",
   "name": "python",
   "nbconvert_exporter": "python",
   "pygments_lexer": "ipython3",
   "version": "3.10.0"
  },
  "toc": {
   "base_numbering": 1,
   "nav_menu": {},
   "number_sections": true,
   "sideBar": true,
   "skip_h1_title": false,
   "title_cell": "Table of Contents",
   "title_sidebar": "Contents",
   "toc_cell": false,
   "toc_position": {},
   "toc_section_display": true,
   "toc_window_display": true
  }
 },
 "nbformat": 4,
 "nbformat_minor": 5
}
