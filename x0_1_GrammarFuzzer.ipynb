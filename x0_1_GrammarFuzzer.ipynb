{
 "cells": [
  {
   "cell_type": "markdown",
   "metadata": {},
   "source": [
    "# Grammar Fuzzer"
   ]
  },
  {
   "cell_type": "code",
   "execution_count": 1,
   "metadata": {},
   "outputs": [],
   "source": [
    "import string\n",
    "import src.utils as utils\n",
    "import random"
   ]
  },
  {
   "cell_type": "code",
   "execution_count": 2,
   "metadata": {},
   "outputs": [],
   "source": [
    "ASCII_MAP = {\n",
    "        '[__WHITESPACE__]': string.whitespace,\n",
    "        '[__DIGIT__]': string.digits,\n",
    "        '[__ASCII_LOWER__]': string.ascii_lowercase,\n",
    "        '[__ASCII_UPPER__]': string.ascii_uppercase,\n",
    "        '[__ASCII_PUNCT__]': string.punctuation,\n",
    "        '[__ASCII_LETTER__]': string.ascii_letters,\n",
    "        '[__ASCII_ALPHANUM__]': string.ascii_letters + string.digits,\n",
    "        '[__ASCII_PRINTABLE__]': string.printable\n",
    "        }\n",
    "FUZZRANGE = 10"
   ]
  },
  {
   "cell_type": "code",
   "execution_count": 3,
   "metadata": {},
   "outputs": [],
   "source": [
    "class Fuzzer:\n",
    "    def __init__(self, grammar):\n",
    "        self.grammar = grammar\n",
    "\n",
    "    def fuzz(self, key='<start>', max_num=None, max_depth=None):\n",
    "        raise NotImplemented()"
   ]
  },
  {
   "cell_type": "code",
   "execution_count": 4,
   "metadata": {},
   "outputs": [],
   "source": [
    "class LimitFuzzer(Fuzzer):\n",
    "    def __init__(self, grammar):\n",
    "        super().__init__(grammar)\n",
    "        self.key_cost = {}\n",
    "        self.cost = self.compute_cost(grammar)\n",
    "\n",
    "    def compute_cost(self, grammar):\n",
    "        cost = {}\n",
    "        for k in grammar:\n",
    "            cost[k] = {}\n",
    "            for rule in grammar[k]:\n",
    "                cost[k][str(rule)] = self.expansion_cost(grammar, rule, set())\n",
    "            if len(grammar[k]):\n",
    "                assert len([v for v in cost[k] if v != float('inf')]) > 0\n",
    "        return cost"
   ]
  },
  {
   "cell_type": "code",
   "execution_count": 5,
   "metadata": {},
   "outputs": [],
   "source": [
    "class LimitFuzzer(LimitFuzzer):\n",
    "    def symbol_cost(self, grammar, symbol, seen):\n",
    "        if symbol in self.key_cost: return self.key_cost[symbol]\n",
    "        if symbol in seen:\n",
    "            self.key_cost[symbol] = float('inf')\n",
    "            return float('inf')\n",
    "        v = min((self.expansion_cost(grammar, rule, seen | {symbol})\n",
    "                    for rule in grammar.get(symbol, [])), default=0)\n",
    "        self.key_cost[symbol] = v\n",
    "        return v\n",
    "\n",
    "    def expansion_cost(self, grammar, tokens, seen):\n",
    "        return max((self.symbol_cost(grammar, token, seen)\n",
    "                    for token in tokens if token in grammar), default=0) + 1"
   ]
  },
  {
   "cell_type": "code",
   "execution_count": 6,
   "metadata": {},
   "outputs": [],
   "source": [
    "class LimitFuzzer(LimitFuzzer):\n",
    "    def nonterminals(self, rule):\n",
    "        return [t for t in rule if utils.is_nt(t)]\n",
    "\n",
    "    def iter_gen_key(self, key, max_depth):\n",
    "        def get_def(t):\n",
    "            if t in ASCII_MAP:\n",
    "                return [random.choice(ASCII_MAP[t]), []]\n",
    "            elif t and t[-1] == '+' and t[0:-1] in ASCII_MAP:\n",
    "                num = random.randrange(FUZZRANGE) + 1\n",
    "                val = [random.choice(ASCII_MAP[t[0:-1]]) for i in range(num)]\n",
    "                return [''.join(val), []]\n",
    "            elif utils.is_nt(t):\n",
    "                return [t, None]\n",
    "            else:\n",
    "                return [t, []]\n",
    "\n",
    "        cheap_grammar = {}\n",
    "        for k in self.cost:\n",
    "            rules = self.grammar[k]\n",
    "            if rules:\n",
    "                min_cost = min([self.cost[k][str(r)] for r in rules])\n",
    "                cheap_grammar[k] = [r for r in self.grammar[k] if self.cost[k][str(r)] == min_cost]\n",
    "            else:\n",
    "                cheap_grammar[k] = [] # (No rules found)\n",
    "\n",
    "        root = [key, None]\n",
    "        queue = [(0, root)]\n",
    "        while queue:\n",
    "            (depth, item), *queue = queue\n",
    "            key = item[0]\n",
    "            if item[1] is not None: continue\n",
    "            grammar = self.grammar if depth < max_depth else cheap_grammar\n",
    "            chosen_rule = random.choice(grammar[key])\n",
    "            expansion = [get_def(t) for t in chosen_rule]\n",
    "            item[1] = expansion\n",
    "            for t in expansion: queue.append((depth+1, t))\n",
    "\n",
    "        return root\n",
    "    \n",
    "    def gen_key(self, key, depth, max_depth):\n",
    "        if key in ASCII_MAP:\n",
    "            return (random.choice(ASCII_MAP[key]), [])\n",
    "        if key and key[-1] == '+' and key[0:-1] in ASCII_MAP:\n",
    "            m = random.randrange(FUZZRANGE) + 1\n",
    "            return (''.join([random.choice(ASCII_MAP[key[0:-1]]) for i in range(m)]), [])\n",
    "        if key not in self.grammar: return (key, [])\n",
    "        if depth > max_depth:\n",
    "            clst = sorted([(self.cost[key][str(rule)], rule) for rule in self.grammar[key]])\n",
    "            rules = [r for c,r in clst if c == clst[0][0]]\n",
    "        else:\n",
    "            rules = self.grammar[key]\n",
    "        v = self.gen_rule(random.choice(rules), depth+1, max_depth)\n",
    "        return (key, v)\n",
    "    \n",
    "    def gen_rule(self, rule, depth, max_depth):\n",
    "        return [self.gen_key(token, depth, max_depth) for token in rule]\n",
    "\n",
    "    def fuzz(self, key='<start>', max_depth=10):\n",
    "        return utils.tree_to_str(self.iter_gen_key(key=key, max_depth=max_depth))"
   ]
  },
  {
   "cell_type": "code",
   "execution_count": 7,
   "metadata": {},
   "outputs": [],
   "source": [
    "import string\n",
    "\n",
    "EXPR_GRAMMAR = {\n",
    " '<start>': [['<expr>']],\n",
    " '<expr>': [['<term>', '+', '<expr>'],\n",
    "            ['<term>', '-', '<expr>'],\n",
    "            ['<term>']],\n",
    " '<term>': [['<factor>', '*', '<term>'],\n",
    "            ['<factor>', '/', '<term>'],\n",
    "            ['<factor>']],\n",
    " '<factor>': [['+', '<factor>'],\n",
    "              ['-', '<factor>'],\n",
    "              ['(', '<expr>', ')'],\n",
    "              ['<integer>', '.', '<integer>'],\n",
    "              ['<integer>']],\n",
    " '<integer>': [['<digit>', '<integer>'], ['<digit>']],\n",
    " '<digit>': [['0'], ['1'], ['2'], ['3'], ['4'], ['5'], ['6'], ['7'], ['8'], ['9']]}\n",
    "\n",
    "EXPR_START = '<start>'"
   ]
  },
  {
   "cell_type": "code",
   "execution_count": 8,
   "metadata": {},
   "outputs": [
    {
     "name": "stdout",
     "output_type": "stream",
     "text": [
      "'(5.5/-(4.6-2.5)/24.45*(5)+8.8*35.1-+7-(4.8)*4.9+9.8*5)/71-((7.4*1+8.9)/+-9.1)*0956*-5.616/5.4+++4/+559.5*2*--3.3*+9.8+(7.4*7.4/4.5)-+75'\n",
      "'--816.65*-963.8/2.9/-(8/5-1.9+4)/722.2/+9.5*+7*6/1.2'\n",
      "'-+-003/+4*2-64.264020+4*2/6.9/(1-9.6)/8.2*1-+4--7*(4.2)/(7.9)-(2.7-6)*1.4++8.2*1/9.7-8*1-0.1+7'\n",
      "'+-+7/+8481.979*(9.41++2-0/1.5-1)/(-1.8*5.5)/(3.0+5-2)+-67.2543'\n",
      "'234-+-(2/9.8*6.2-9.9*9.4-2)/(-+2.3)*436.291*9.942/+(5)/-7*1.8+((4)+7.3/6/8.8)/+9.56+991*+(0.0-5)*-1.7*+4+282/0*+0/6.4'\n",
      "'++2.83*----(5+1)*-3+85*(--0.7--3+4*1.6-3-0.6)*+3/47.9/+6+(69.9/+6.9)+-(1/4.3+7.1-9)*3*5.2+7/3/5.4'\n",
      "'-+++0--(99.38*4.6)*8.6+67896.6-+(0.6+5-3.7)*9.692*+-7/0.7*2/2+574*5/6.2--+1+(0.5)*2-2*0.8'\n",
      "'5-(65.8/--7/(8.6))*6/-2*8'\n",
      "'(((9.1)-9.2/7.2)*78*-+9-(1*8.6+3.9+3)--7.0*-3.4)*+5.408/+--54/(-4.3*1*7.5)/(6.1)*6.7+((8-9)*35*(8.4)*9-(3)/7+8.8-3/3.5+0)'\n",
      "'-226+894202.87++(+3)'\n"
     ]
    }
   ],
   "source": [
    "if __name__ == '__main__':\n",
    "    lf = LimitFuzzer(EXPR_GRAMMAR)\n",
    "    for i in range(10):\n",
    "        v = lf.fuzz(EXPR_START)\n",
    "        print(repr(v))"
   ]
  },
  {
   "cell_type": "markdown",
   "metadata": {},
   "source": [
    "# Done"
   ]
  },
  {
   "cell_type": "code",
   "execution_count": 9,
   "metadata": {},
   "outputs": [],
   "source": [
    "#%tb"
   ]
  }
 ],
 "metadata": {
  "kernelspec": {
   "display_name": "Python 3 (ipykernel)",
   "language": "python",
   "name": "python3"
  },
  "language_info": {
   "codemirror_mode": {
    "name": "ipython",
    "version": 3
   },
   "file_extension": ".py",
   "mimetype": "text/x-python",
   "name": "python",
   "nbconvert_exporter": "python",
   "pygments_lexer": "ipython3",
   "version": "3.10.0"
  },
  "toc": {
   "base_numbering": 1,
   "nav_menu": {},
   "number_sections": true,
   "sideBar": true,
   "skip_h1_title": false,
   "title_cell": "Table of Contents",
   "title_sidebar": "Contents",
   "toc_cell": false,
   "toc_position": {
    "height": "calc(100% - 180px)",
    "left": "10px",
    "top": "150px",
    "width": "260px"
   },
   "toc_section_display": true,
   "toc_window_display": true
  }
 },
 "nbformat": 4,
 "nbformat_minor": 2
}
