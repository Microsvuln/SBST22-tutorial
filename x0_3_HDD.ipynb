{
 "cells": [
  {
   "cell_type": "markdown",
   "metadata": {},
   "source": [
    "# Hierarchical Reduction"
   ]
  },
  {
   "cell_type": "code",
   "execution_count": 1,
   "metadata": {},
   "outputs": [],
   "source": [
    "import src.utils as utils\n",
    "from enum import Enum\n",
    "class PRes(str, Enum):\n",
    "    success = 'SUCCESS'\n",
    "    failed = 'FAILED'\n",
    "    invalid = 'INVALID'\n",
    "    timeout = 'TIMEOUT'"
   ]
  },
  {
   "cell_type": "code",
   "execution_count": 2,
   "metadata": {},
   "outputs": [],
   "source": [
    "ecount = 0\n",
    "\n",
    "def add_to_pq(tup, q):\n",
    "    global ecount\n",
    "    dtree, F_path = tup\n",
    "    stree = get_child(dtree, F_path)\n",
    "    n =  count_leaves(dtree)\n",
    "    m =  count_leaves(stree)\n",
    "    # heap smallest first\n",
    "    heapq.heappush(q, (n, m, -ecount, tup))\n",
    "    ecount += 1"
   ]
  },
  {
   "cell_type": "code",
   "execution_count": 3,
   "metadata": {},
   "outputs": [],
   "source": [
    "def compatible_nodes(tree, grammar):\n",
    "    key, children, *_ = tree\n",
    "    # Here is the first choice. Do we restrict ourselves to only children of the tree\n",
    "    # or do we allow all nodes in the original tree? given in all_nodes?\n",
    "    lst = nt_group(tree)\n",
    "    node_lst = [(i, n) for i,n in enumerate(lst[key])]\n",
    "\n",
    "    # insert empty if the grammar allows it as the first element\n",
    "    if [] in grammar[key]: node_lst.insert(0, (-1, (key, [])))\n",
    "    return node_lst"
   ]
  },
  {
   "cell_type": "code",
   "execution_count": 4,
   "metadata": {},
   "outputs": [],
   "source": [
    "def get_child(tree, path):\n",
    "    if not path: return tree\n",
    "    cur, *path = path\n",
    "    return get_child(tree[1][cur], path)"
   ]
  },
  {
   "cell_type": "code",
   "execution_count": 5,
   "metadata": {},
   "outputs": [],
   "source": [
    "def hierarchical_reduction(tree, grammar, predicate):\n",
    "    first_tuple = (tree, [])\n",
    "    p_q = []\n",
    "    add_to_pq(first_tuple, p_q)\n",
    "\n",
    "    ostr = utils.tree_to_str(tree)\n",
    "    assert predicate(ostr) == PRes.success\n",
    "    failed_set = {ostr: True}\n",
    "\n",
    "    min_tree, min_tree_size = tree, count_leaves(tree)\n",
    "    while p_q:\n",
    "        # extract the tuple\n",
    "        _n, _m, _ec, (dtree, F_path) = heapq.heappop(p_q)\n",
    "        stree = get_child(dtree, F_path)\n",
    "        skey, schildren = stree\n",
    "        found = False\n",
    "        # we now want to replace stree with alternate nodes.\n",
    "        for i, node in compatible_nodes(stree, grammar):\n",
    "            # replace with current (copy).\n",
    "            ctree = replace_path(dtree, F_path, node)\n",
    "            if ctree is None: continue # same node\n",
    "            v = utils.tree_to_str(ctree)\n",
    "            if v in failed_set: continue\n",
    "            failed_set[v] = predicate(v) # we ignore PRes.invalid results\n",
    "            if failed_set[v] == PRes.success:\n",
    "                found = True\n",
    "                ctree_size = count_leaves(ctree)\n",
    "                if ctree_size < min_tree_size: min_tree, min_tree_size = ctree, ctree_size\n",
    "\n",
    "                if v not in failed_set:\n",
    "                    print(v)\n",
    "                t = (ctree, F_path)\n",
    "                assert get_child(ctree, F_path) is not None\n",
    "                add_to_pq(t, p_q)\n",
    "\n",
    "        # The CHOICE here is that we explore the children if and only if we fail\n",
    "        # to find a node that can replace the current\n",
    "        if found: continue\n",
    "        if utils.is_token(skey): continue # do not follow children TOKEN optimization\n",
    "        for i, child in enumerate(schildren):\n",
    "            if not utils.is_nt(child[0]): continue\n",
    "            assert get_child(tree=dtree, path=F_path + [i]) is not None\n",
    "            t = (dtree, F_path + [i])\n",
    "            add_to_pq(t, p_q)\n",
    "    return min_tree"
   ]
  },
  {
   "cell_type": "code",
   "execution_count": 6,
   "metadata": {},
   "outputs": [],
   "source": [
    "import heapq\n",
    "\n",
    "def count_leaves(node):\n",
    "    name, children, *_ = node\n",
    "    if not children:\n",
    "        return 1\n",
    "    return sum(count_leaves(i) for i in children)\n",
    "\n",
    "def count_nodes(node):\n",
    "    name, children, *_ = node\n",
    "    if not children:\n",
    "        return 0\n",
    "    return sum(count_nodes(i) for i in children) + 1"
   ]
  },
  {
   "cell_type": "code",
   "execution_count": 7,
   "metadata": {},
   "outputs": [],
   "source": [
    "def nt_group(tree, all_nodes=None):\n",
    "    if all_nodes is None: all_nodes = {}\n",
    "    name, children, *_ = tree\n",
    "    if not utils.is_nt(name): return\n",
    "    all_nodes.setdefault(name, []).append(tree)\n",
    "    for c in children:\n",
    "        nt_group(c, all_nodes)\n",
    "    return all_nodes"
   ]
  },
  {
   "cell_type": "code",
   "execution_count": 8,
   "metadata": {},
   "outputs": [],
   "source": [
    "def replace_path(tree, path, new_node=None):\n",
    "    if new_node is None: new_node = []\n",
    "    if not path: return utils.deep_copy(new_node)\n",
    "    cur, *path = path\n",
    "    name, children, *rest = tree\n",
    "    new_children = []\n",
    "    for i,c in enumerate(children):\n",
    "        if i == cur:\n",
    "            nc = replace_path(c, path, new_node)\n",
    "        else:\n",
    "            nc = c\n",
    "        if nc:\n",
    "            new_children.append(nc)\n",
    "    return (name, new_children, *rest)"
   ]
  },
  {
   "cell_type": "code",
   "execution_count": 9,
   "metadata": {},
   "outputs": [],
   "source": [
    "import re\n",
    "def expr_double_paren(inp):\n",
    "    if re.match(r'.*[(][(].*[)][)].*', inp):\n",
    "        return PRes.success\n",
    "    return PRes.failed"
   ]
  },
  {
   "cell_type": "code",
   "execution_count": 21,
   "metadata": {},
   "outputs": [
    {
     "name": "stdout",
     "output_type": "stream",
     "text": [
      "((4))\n",
      "<start>\n",
      "+- <expr>\n",
      "    +- <term>\n",
      "        +- <factor>\n",
      "            +- '('\n",
      "            +- <expr>\n",
      "            |   +- <term>\n",
      "            |       +- <factor>\n",
      "            |           +- '('\n",
      "            |           +- <expr>\n",
      "            |           |   +- <term>\n",
      "            |           |       +- <factor>\n",
      "            |           |           +- <integer>\n",
      "            |           |               +- <digit>\n",
      "            |           |                   +- '4'\n",
      "            |           +- ')'\n",
      "            +- ')'\n"
     ]
    }
   ],
   "source": [
    "if __name__ == '__main__':\n",
    "    import ipynb.fs.full.x0_2_parser as parser\n",
    "    expr_parser = parser.EarleyParser(parser.EXPR_GRAMMAR)\n",
    "    parsed_expr = list(expr_parser.parse_on('1+((2*3/4))', parser.EXPR_START))[0]\n",
    "    reduced_expr_tree = hierarchical_reduction(parsed_expr, parser.EXPR_GRAMMAR, expr_double_paren)\n",
    "    print(utils.tree_to_str(reduced_expr_tree))\n",
    "    utils.display_tree_console(reduced_expr_tree)"
   ]
  },
  {
   "cell_type": "markdown",
   "metadata": {},
   "source": [
    "# Done"
   ]
  },
  {
   "cell_type": "code",
   "execution_count": null,
   "metadata": {},
   "outputs": [],
   "source": [
    "#%tb"
   ]
  }
 ],
 "metadata": {
  "kernelspec": {
   "display_name": "Python 3 (ipykernel)",
   "language": "python",
   "name": "python3"
  },
  "language_info": {
   "codemirror_mode": {
    "name": "ipython",
    "version": 3
   },
   "file_extension": ".py",
   "mimetype": "text/x-python",
   "name": "python",
   "nbconvert_exporter": "python",
   "pygments_lexer": "ipython3",
   "version": "3.10.0"
  },
  "toc": {
   "base_numbering": 1,
   "nav_menu": {},
   "number_sections": true,
   "sideBar": true,
   "skip_h1_title": false,
   "title_cell": "Table of Contents",
   "title_sidebar": "Contents",
   "toc_cell": false,
   "toc_position": {
    "height": "calc(100% - 180px)",
    "left": "10px",
    "top": "150px",
    "width": "260px"
   },
   "toc_section_display": true,
   "toc_window_display": true
  }
 },
 "nbformat": 4,
 "nbformat_minor": 2
}
